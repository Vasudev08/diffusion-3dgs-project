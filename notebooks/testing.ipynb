{
 "cells": [
  {
   "cell_type": "code",
   "execution_count": 1,
   "id": "5a31887c",
   "metadata": {},
   "outputs": [
    {
     "name": "stdout",
     "output_type": "stream",
     "text": [
      "Hello\n"
     ]
    }
   ],
   "source": [
    "print(\"Hello\")"
   ]
  },
  {
   "cell_type": "markdown",
   "id": "a67a435d-c00c-492e-9b95-f44491afec9f",
   "metadata": {},
   "source": []
  },
  {
   "cell_type": "markdown",
   "id": "02768e63-f696-4858-aeb1-07c86adf304d",
   "metadata": {},
   "source": [
    "# This is my notebook for trying my diffusion model + 3d guassian splatting"
   ]
  },
  {
   "cell_type": "code",
   "execution_count": null,
   "id": "99cf21fe-1404-405c-96f7-eabbd5c390b4",
   "metadata": {},
   "outputs": [],
   "source": []
  }
 ],
 "metadata": {
  "kernelspec": {
   "display_name": "Python 3 (ipykernel)",
   "language": "python",
   "name": "python3"
  },
  "language_info": {
   "codemirror_mode": {
    "name": "ipython",
    "version": 3
   },
   "file_extension": ".py",
   "mimetype": "text/x-python",
   "name": "python",
   "nbconvert_exporter": "python",
   "pygments_lexer": "ipython3",
   "version": "3.11.7"
  }
 },
 "nbformat": 4,
 "nbformat_minor": 5
}
